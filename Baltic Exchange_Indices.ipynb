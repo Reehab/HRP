{
 "cells": [
  {
   "cell_type": "code",
   "execution_count": 2,
   "id": "716a48b1",
   "metadata": {},
   "outputs": [],
   "source": [
    "#import Chrome driver which is already installed in this folder\n",
    "from selenium.webdriver import Chrome\n",
    "import time\n",
    "from selenium.webdriver.common.by import By\n",
    "\n",
    "driver =Chrome(\"chromedriver\")\n",
    "\n",
    "#My Baltic credentials\n",
    "\n",
    "email =\"Reehab.Jahangir@howerob.com\"\n",
    "psswrd = \"Reehab@123\"\n",
    "\n",
    "#open Baltic exchange login page and allow some time for the webpage to open\n",
    "\n",
    "from selenium.webdriver.support.ui import WebDriverWait\n",
    "\n",
    "#access Baltic Exchange Dry Index Family Dashboard\n",
    "\n",
    "driver.get(\"https://www.balticexchange.com/en/my-baltic/dashboard/indices-dashboard.html?familyName=BDI\")\n",
    "\n",
    "time.sleep(2)\n",
    "\n",
    "\n",
    "\n",
    "#access BALTIC EXCHANGE login email and password input\n",
    "\n",
    "driver.find_element(By.CSS_SELECTOR,\"#auth0-lock-container-1 > div > div.auth0-lock-center > form > div > div > div:nth-child(3) > span > div > div > div > div > div > div > div > div > div > div.auth0-lock-input-block.auth0-lock-input-email > div > input\").send_keys(email)\n",
    "driver.find_element(By.CSS_SELECTOR,\"#auth0-lock-container-1 > div > div.auth0-lock-center > form > div > div > div:nth-child(3) > span > div > div > div > div > div > div > div > div > div > div.auth0-lock-input-block.auth0-lock-input-show-password > div > div > input\").send_keys(psswrd)\n",
    "\n",
    "\n",
    "#access BALTIC EXCHANGE signup button\n",
    "\n",
    "driver.find_element(By.CSS_SELECTOR,\"#auth0-lock-container-1 > div > div.auth0-lock-center > form > div > div > button\").click()\n",
    "\n",
    "\n",
    "#give time to webpage to load\n",
    "\n",
    "time.sleep(5)\n"
   ]
  },
  {
   "cell_type": "code",
   "execution_count": 4,
   "id": "306d3f6a",
   "metadata": {},
   "outputs": [],
   "source": [
    "#INCLUDE CODE TO SCROLL DOWN\n",
    "\n",
    "find_Weighted_Avg = driver.find_element(By.CSS_SELECTOR, \"#category-indices > div.item-content\")\n",
    "driver.execute_script(\"arguments[0].scrollIntoView();\",find_Weighted_Avg)\n",
    "\n",
    "#open BSRA Bulker table\n",
    "                      \n",
    "#driver.find_element(By.CSS_SELECTOR, \"#category-routes-info_bsra-bulker > div.item-content > div > div.open-all\").click()\n",
    "\n"
   ]
  },
  {
   "cell_type": "code",
   "execution_count": null,
   "id": "d5a2b973",
   "metadata": {},
   "outputs": [],
   "source": []
  }
 ],
 "metadata": {
  "kernelspec": {
   "display_name": "Python 3",
   "language": "python",
   "name": "python3"
  },
  "language_info": {
   "codemirror_mode": {
    "name": "ipython",
    "version": 3
   },
   "file_extension": ".py",
   "mimetype": "text/x-python",
   "name": "python",
   "nbconvert_exporter": "python",
   "pygments_lexer": "ipython3",
   "version": "3.8.8"
  }
 },
 "nbformat": 4,
 "nbformat_minor": 5
}
